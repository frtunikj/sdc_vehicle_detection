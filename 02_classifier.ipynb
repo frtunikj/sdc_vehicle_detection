{
 "cells": [
  {
   "cell_type": "markdown",
   "metadata": {},
   "source": [
    "# Advanced Lane Lines - SVM classifier\n",
    "\n",
    "In this notebook the following points from the Project 5 Vehicle Detection are implemented:\n",
    "*  train a Linear SVM classifier\n"
   ]
  },
  {
   "cell_type": "markdown",
   "metadata": {},
   "source": [
    "---\n",
    "## Step 0: Import required libraries"
   ]
  },
  {
   "cell_type": "code",
   "execution_count": 1,
   "metadata": {
    "collapsed": true
   },
   "outputs": [],
   "source": [
    "from skimage.feature import hog\n",
    "from sklearn.svm import LinearSVC\n",
    "from sklearn.preprocessing import StandardScaler\n",
    "from sklearn.model_selection import train_test_split\n",
    "from scipy.ndimage.measurements import label\n",
    "\n",
    "import matplotlib.image as mpimg\n",
    "import matplotlib.pyplot as plt\n",
    "\n",
    "import numpy as np\n",
    "import pickle\n",
    "import cv2\n",
    "import glob\n",
    "import time\n",
    "import os\n",
    "\n",
    "from feature_extraction import extractFeatures, readImages, configParams\n"
   ]
  },
  {
   "cell_type": "markdown",
   "metadata": {},
   "source": [
    "## Step 1:  Heper function to extract features for one image array"
   ]
  },
  {
   "cell_type": "code",
   "execution_count": 2,
   "metadata": {
    "collapsed": true
   },
   "outputs": [],
   "source": [
    "def extractFeaturesImages(imgs):\n",
    "    # Create a list to append feature vectors to\n",
    "    imagesFeatures = []\n",
    "    # Iterate through the list of images\n",
    "    for img in range(0, len(imgs)):\n",
    "        # Read in each one by one        \n",
    "        image = imgs[img]\n",
    "        \n",
    "        hog_feat = configParams['use_hog_feat']\n",
    "        spatial_feat = configParams['use_spatial_feat']\n",
    "        hist_feat = configParams['use_hist_feat']\n",
    "\n",
    "        imgFeatures = extractFeatures(image, verbose=False, hog_feat=hog_feat, spatial_feat=spatial_feat, hist_feat=hist_feat)\n",
    "\n",
    "        imagesFeatures.append(imgFeatures)\n",
    "    # Return list of feature vectors\n",
    "    return imagesFeatures "
   ]
  },
  {
   "cell_type": "markdown",
   "metadata": {},
   "source": [
    "## Step 2: Get training data"
   ]
  },
  {
   "cell_type": "code",
   "execution_count": 3,
   "metadata": {
    "collapsed": true
   },
   "outputs": [],
   "source": [
    "vehicleImages = readImages('./data/vehicles')\n",
    "nonVehicleImages = readImages('./data/non-vehicles') "
   ]
  },
  {
   "cell_type": "code",
   "execution_count": 4,
   "metadata": {},
   "outputs": [
    {
     "name": "stderr",
     "output_type": "stream",
     "text": [
      "/home/carnd/anaconda3/envs/carnd-term1/lib/python3.5/site-packages/skimage/feature/_hog.py:119: skimage_deprecation: Default value of `block_norm`==`L1` is deprecated and will be changed to `L2-Hys` in v0.15\n",
      "  'be changed to `L2-Hys` in v0.15', skimage_deprecation)\n"
     ]
    }
   ],
   "source": [
    "vehiclesFeatures = extractFeaturesImages(vehicleImages)\n",
    "nonVehiclesFeatures = extractFeaturesImages(nonVehicleImages)\n",
    "\n",
    "X = np.vstack((vehiclesFeatures, nonVehiclesFeatures)).astype(np.float64)  \n",
    "\n",
    "# Define the labels vector\n",
    "labels = np.hstack((np.ones(len(vehiclesFeatures)), np.zeros(len(nonVehiclesFeatures)))) "
   ]
  },
  {
   "cell_type": "markdown",
   "metadata": {},
   "source": [
    "## Step 3: Create a classifier "
   ]
  },
  {
   "cell_type": "code",
   "execution_count": 5,
   "metadata": {
    "collapsed": true
   },
   "outputs": [],
   "source": [
    "def fitSvm(X, labels, verbose):\n",
    "    \n",
    "    # Fit a per-column scaler\n",
    "    X_scaler = StandardScaler().fit(X)\n",
    "    \n",
    "    # Apply the scaler to X\n",
    "    scaled_X = X_scaler.transform(X)\n",
    "    \n",
    "    # Split up data into randomized training and test sets\n",
    "    rand_state = np.random.randint(0, 100)\n",
    "    X_train, X_test, y_train, y_test = train_test_split(scaled_X, labels, test_size=0.2,random_state=rand_state) \n",
    "    \n",
    "    # Use a linear SVC \n",
    "    svc = LinearSVC()\n",
    "    \n",
    "    # Check the training time for the SVC\n",
    "    t=time.time()\n",
    "    svc.fit(X_train, y_train)\n",
    "    t2 = time.time()\n",
    "\n",
    "    if verbose:\n",
    "        print(\"\\n\",round(t2-t, 2), 'Seconds to train SVC...')\n",
    "        print('Test Accuracy of SVC = ', round(svc.score(X_test, y_test), 4))\n",
    "        \n",
    "        t=time.time()    \n",
    "        n_predict = 10\n",
    "        print('My SVC predicts:     ', svc.predict(X_test[0:n_predict]))\n",
    "        print('For these',n_predict, 'labels: ', y_test[0:n_predict])\n",
    "        t2 = time.time()\n",
    "        print(\" \",round(t2-t, 5), 'Seconds to predict', n_predict,'labels with SVC')\n",
    "    \n",
    "    return svc, X_scaler "
   ]
  },
  {
   "cell_type": "markdown",
   "metadata": {},
   "source": [
    "## Step 4: Train the SVM classifier and save classifier data"
   ]
  },
  {
   "cell_type": "code",
   "execution_count": 6,
   "metadata": {},
   "outputs": [
    {
     "name": "stdout",
     "output_type": "stream",
     "text": [
      "\n",
      " 14.16 Seconds to train SVC...\n",
      "Test Accuracy of SVC =  0.9854\n",
      "My SVC predicts:      [ 0.  0.  1.  0.  1.  1.  1.  0.  1.  0.]\n",
      "For these 10 labels:  [ 1.  0.  1.  0.  1.  1.  1.  0.  1.  0.]\n",
      "  0.0043 Seconds to predict 10 labels with SVC\n"
     ]
    }
   ],
   "source": [
    "svc, X_scaler = fitSvm(X, labels, verbose=True)\n",
    "\n",
    "pickle.dump([svc, X_scaler], open( \"./classifier_pickle.p\", \"wb\" ) ) "
   ]
  }
 ],
 "metadata": {
  "anaconda-cloud": {},
  "kernelspec": {
   "display_name": "Python 3",
   "language": "python",
   "name": "python3"
  },
  "language_info": {
   "codemirror_mode": {
    "name": "ipython",
    "version": 3
   },
   "file_extension": ".py",
   "mimetype": "text/x-python",
   "name": "python",
   "nbconvert_exporter": "python",
   "pygments_lexer": "ipython3",
   "version": "3.5.2"
  },
  "widgets": {
   "state": {},
   "version": "1.1.2"
  }
 },
 "nbformat": 4,
 "nbformat_minor": 1
}
